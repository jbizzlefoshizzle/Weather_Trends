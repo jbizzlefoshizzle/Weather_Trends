{
 "cells": [
  {
   "cell_type": "code",
   "execution_count": 58,
   "metadata": {},
   "outputs": [],
   "source": [
    "# Dependencies\n",
    "import pandas as pd\n",
    "import numpy as np\n",
    "import random\n",
    "import requests\n",
    "from config import weather_key"
   ]
  },
  {
   "cell_type": "code",
   "execution_count": 59,
   "metadata": {},
   "outputs": [
    {
     "data": {
      "text/html": [
       "<div>\n",
       "<style scoped>\n",
       "    .dataframe tbody tr th:only-of-type {\n",
       "        vertical-align: middle;\n",
       "    }\n",
       "\n",
       "    .dataframe tbody tr th {\n",
       "        vertical-align: top;\n",
       "    }\n",
       "\n",
       "    .dataframe thead th {\n",
       "        text-align: right;\n",
       "    }\n",
       "</style>\n",
       "<table border=\"1\" class=\"dataframe\">\n",
       "  <thead>\n",
       "    <tr style=\"text-align: right;\">\n",
       "      <th></th>\n",
       "      <th>lat</th>\n",
       "      <th>lng</th>\n",
       "    </tr>\n",
       "  </thead>\n",
       "  <tbody>\n",
       "    <tr>\n",
       "      <th>0</th>\n",
       "      <td>[36.614502790053265]</td>\n",
       "      <td>[-102.99679036968223]</td>\n",
       "    </tr>\n",
       "    <tr>\n",
       "      <th>1</th>\n",
       "      <td>[21.853008093469555]</td>\n",
       "      <td>[127.24008934118228]</td>\n",
       "    </tr>\n",
       "    <tr>\n",
       "      <th>2</th>\n",
       "      <td>[-18.607461911119614]</td>\n",
       "      <td>[87.30755421711149]</td>\n",
       "    </tr>\n",
       "    <tr>\n",
       "      <th>3</th>\n",
       "      <td>[-23.27794971754392]</td>\n",
       "      <td>[44.61800724940477]</td>\n",
       "    </tr>\n",
       "    <tr>\n",
       "      <th>4</th>\n",
       "      <td>[75.4406061922792]</td>\n",
       "      <td>[71.35671977263141]</td>\n",
       "    </tr>\n",
       "  </tbody>\n",
       "</table>\n",
       "</div>"
      ],
      "text/plain": [
       "                     lat                    lng\n",
       "0   [36.614502790053265]  [-102.99679036968223]\n",
       "1   [21.853008093469555]   [127.24008934118228]\n",
       "2  [-18.607461911119614]    [87.30755421711149]\n",
       "3   [-23.27794971754392]    [44.61800724940477]\n",
       "4     [75.4406061922792]    [71.35671977263141]"
      ]
     },
     "execution_count": 59,
     "metadata": {},
     "output_type": "execute_result"
    }
   ],
   "source": [
    "# Randomly generated coordinates\n",
    "lat_num = np.random.uniform(-90,90, size=(520,1))\n",
    "lng_num = np.random.uniform(-180,180, size=(520,1))\n",
    "list_of_coords = list(zip(lat_num, lng_num))\n",
    "\n",
    "# Dataframe of random lat and long coordinates\n",
    "city_coordinates = pd.DataFrame(list_of_coords, columns = ['lat', 'lng'])\n",
    "city_coordinates.head()"
   ]
  },
  {
   "cell_type": "code",
   "execution_count": 63,
   "metadata": {},
   "outputs": [
    {
     "name": "stdout",
     "output_type": "stream",
     "text": [
      "http://api.openweathermap.org/data/2.5/weather?APPID=b5230f1f488044c6fdf2f11a67c5e4f7&lat=62.443172920847815&lon=-6.185785811014256&units=imperial\n"
     ]
    }
   ],
   "source": [
    "\n",
    "# lat = city_coordinates['lat']\n",
    "# lng = city_coordinates['lng']\n",
    "# fahrenheit = \"units=imperial\"\n",
    "base_url = \"http://api.openweathermap.org/data/2.5/weather?\"\n",
    "query_url = f'{base_url}APPID={weather_key}&lat=62.443172920847815&lon=-6.185785811014256&{fahrenheit}'\n",
    "print(query_url)\n",
    "# response = requests.get(query_url)\n",
    "# aa = response.json()\n"
   ]
  },
  {
   "cell_type": "code",
   "execution_count": 64,
   "metadata": {},
   "outputs": [
    {
     "name": "stdout",
     "output_type": "stream",
     "text": [
      "FO\n"
     ]
    },
    {
     "ename": "KeyError",
     "evalue": "'country'",
     "output_type": "error",
     "traceback": [
      "\u001b[1;31m---------------------------------------------------------------------------\u001b[0m",
      "\u001b[1;31mKeyError\u001b[0m                                  Traceback (most recent call last)",
      "\u001b[1;32m<ipython-input-64-985d28caabd0>\u001b[0m in \u001b[0;36m<module>\u001b[1;34m\u001b[0m\n\u001b[0;32m     13\u001b[0m     \u001b[0mweather\u001b[0m \u001b[1;33m=\u001b[0m \u001b[0mresponse\u001b[0m\u001b[1;33m.\u001b[0m\u001b[0mjson\u001b[0m\u001b[1;33m(\u001b[0m\u001b[1;33m)\u001b[0m\u001b[1;33m\u001b[0m\u001b[1;33m\u001b[0m\u001b[0m\n\u001b[0;32m     14\u001b[0m     \u001b[0mcity\u001b[0m \u001b[1;33m=\u001b[0m \u001b[0mweather\u001b[0m\u001b[1;33m[\u001b[0m\u001b[1;34m'name'\u001b[0m\u001b[1;33m]\u001b[0m\u001b[1;33m\u001b[0m\u001b[1;33m\u001b[0m\u001b[0m\n\u001b[1;32m---> 15\u001b[1;33m     \u001b[0mnation\u001b[0m \u001b[1;33m=\u001b[0m \u001b[0mweather\u001b[0m\u001b[1;33m[\u001b[0m\u001b[1;34m'sys'\u001b[0m\u001b[1;33m]\u001b[0m\u001b[1;33m[\u001b[0m\u001b[1;34m'country'\u001b[0m\u001b[1;33m]\u001b[0m\u001b[1;33m\u001b[0m\u001b[1;33m\u001b[0m\u001b[0m\n\u001b[0m\u001b[0;32m     16\u001b[0m     \u001b[0mcloud\u001b[0m \u001b[1;33m=\u001b[0m \u001b[0mweather\u001b[0m\u001b[1;33m[\u001b[0m\u001b[1;34m'clouds'\u001b[0m\u001b[1;33m]\u001b[0m\u001b[1;33m[\u001b[0m\u001b[1;34m'all'\u001b[0m\u001b[1;33m]\u001b[0m\u001b[1;33m\u001b[0m\u001b[1;33m\u001b[0m\u001b[0m\n\u001b[0;32m     17\u001b[0m     \u001b[0mhumidity\u001b[0m \u001b[1;33m=\u001b[0m \u001b[0mweather\u001b[0m\u001b[1;33m[\u001b[0m\u001b[1;34m'main'\u001b[0m\u001b[1;33m]\u001b[0m\u001b[1;33m[\u001b[0m\u001b[1;34m'humidity'\u001b[0m\u001b[1;33m]\u001b[0m\u001b[1;33m\u001b[0m\u001b[1;33m\u001b[0m\u001b[0m\n",
      "\u001b[1;31mKeyError\u001b[0m: 'country'"
     ]
    }
   ],
   "source": [
    "city_list = []\n",
    "country_list = []\n",
    "cloud_list = []\n",
    "humidity_list = []\n",
    "temp_list = []\n",
    "wind_list = []\n",
    "\n",
    "#for x in city_coordinates['lat'] and for y in city_coordinates['lng']:\n",
    "for x, y in zip(city_coordinates.iloc[:, 0], city_coordinates.iloc[:, 1]):\n",
    "    params = {\"lat\": x, \"lon\": y, \"APPID\": weather_key}\n",
    "    base_url = \"http://api.openweathermap.org/data/2.5/weather?\"\n",
    "    response = requests.get(base_url, params=params)\n",
    "    weather = response.json()\n",
    "    city = weather['name']\n",
    "    nation = weather['sys']['country']\n",
    "    cloud = weather['clouds']['all']\n",
    "    humidity = weather['main']['humidity']\n",
    "    temp = weather['main']['temp_max']\n",
    "    wind_speed = weather['wind']['speed']\n",
    "    print(country)\n",
    "#     city_list.append(city)\n",
    "#     country_list.append(country)\n",
    "#     cloud_list.append(cloud)\n",
    "#     humidity_list.append(humidity)\n",
    "#     temp_list.append(temp)\n",
    "#     wind_list.append(wind_speed)"
   ]
  },
  {
   "cell_type": "code",
   "execution_count": null,
   "metadata": {},
   "outputs": [],
   "source": []
  }
 ],
 "metadata": {
  "kernelspec": {
   "display_name": "Python [conda env:PythonData2] *",
   "language": "python",
   "name": "conda-env-PythonData2-py"
  },
  "language_info": {
   "codemirror_mode": {
    "name": "ipython",
    "version": 3
   },
   "file_extension": ".py",
   "mimetype": "text/x-python",
   "name": "python",
   "nbconvert_exporter": "python",
   "pygments_lexer": "ipython3",
   "version": "3.6.8"
  }
 },
 "nbformat": 4,
 "nbformat_minor": 2
}
